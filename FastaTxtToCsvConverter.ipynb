{
 "cells": [
  {
   "cell_type": "code",
   "execution_count": 5,
   "id": "dc02d8c9-309e-4d35-9ab6-5709eef6bd67",
   "metadata": {},
   "outputs": [],
   "source": [
    "from pathlib import Path\n",
    "import csv\n",
    "\n",
    "def txt_to_csv(input_dir: Path, output_file: Path):\n",
    "    \"\"\"Reads all FASTA‐style .txt files in input_dir and writes a CSV.\"\"\"\n",
    "    input_dir = Path(input_dir)\n",
    "    txt_files = sorted(input_dir.glob(\"*.txt\"))\n",
    "    if not txt_files:\n",
    "        print(f\"No .txt files found in {input_dir}\")\n",
    "        return\n",
    "\n",
    "    output_file = Path(output_file)\n",
    "    output_file.parent.mkdir(parents=True, exist_ok=True)\n",
    "    with output_file.open(\"w\", newline=\"\") as out_f:\n",
    "        writer = csv.writer(out_f)\n",
    "        writer.writerow([\"clone_name\", \"dna_sequence\"])\n",
    "\n",
    "        for txt in txt_files:\n",
    "            clone_name = None\n",
    "            seq_fragments = []\n",
    "            for line in txt.read_text().splitlines():\n",
    "                line = line.strip()\n",
    "                if not line:\n",
    "                    continue\n",
    "                if line.startswith(\">\"):\n",
    "                    if clone_name is not None:\n",
    "                        writer.writerow([clone_name, \"\".join(seq_fragments)])\n",
    "                    clone_name = line[1:].strip()\n",
    "                    seq_fragments = []\n",
    "                else:\n",
    "                    seq_fragments.append(line)\n",
    "            if clone_name is not None:\n",
    "                writer.writerow([clone_name, \"\".join(seq_fragments)])\n",
    "\n",
    "    print(f\"✔ Wrote {output_file} from {len(txt_files)} files.\")"
   ]
  },
  {
   "cell_type": "code",
   "execution_count": null,
   "id": "f0b5b693-8c17-41df-b681-c94262461237",
   "metadata": {},
   "outputs": [],
   "source": [
    "txt_to_csv(\"data/raw\", \"output/project_sequences.csv\")"
   ]
  }
 ],
 "metadata": {
  "kernelspec": {
   "display_name": "Python 3 (ipykernel)",
   "language": "python",
   "name": "python3"
  },
  "language_info": {
   "codemirror_mode": {
    "name": "ipython",
    "version": 3
   },
   "file_extension": ".py",
   "mimetype": "text/x-python",
   "name": "python",
   "nbconvert_exporter": "python",
   "pygments_lexer": "ipython3",
   "version": "3.11.9"
  }
 },
 "nbformat": 4,
 "nbformat_minor": 5
}
