{
  "nbformat": 4,
  "nbformat_minor": 0,
  "metadata": {
    "colab": {
      "provenance": []
    },
    "kernelspec": {
      "name": "python3",
      "display_name": "Python 3"
    },
    "language_info": {
      "name": "python"
    }
  },
  "cells": [
    {
      "cell_type": "code",
      "execution_count": 16,
      "metadata": {
        "colab": {
          "base_uri": "https://localhost:8080/"
        },
        "id": "GJ7Uxqm8QLAi",
        "outputId": "13187cb2-334e-4279-b9e2-7c35b9473cde"
      },
      "outputs": [
        {
          "output_type": "stream",
          "name": "stdout",
          "text": [
            "Requirement already satisfied: Bio in /usr/local/lib/python3.11/dist-packages (1.8.0)\n",
            "Requirement already satisfied: biopython>=1.80 in /usr/local/lib/python3.11/dist-packages (from Bio) (1.85)\n",
            "Requirement already satisfied: gprofiler-official in /usr/local/lib/python3.11/dist-packages (from Bio) (1.0.0)\n",
            "Requirement already satisfied: mygene in /usr/local/lib/python3.11/dist-packages (from Bio) (3.2.2)\n",
            "Requirement already satisfied: pandas in /usr/local/lib/python3.11/dist-packages (from Bio) (2.2.2)\n",
            "Requirement already satisfied: pooch in /usr/local/lib/python3.11/dist-packages (from Bio) (1.8.2)\n",
            "Requirement already satisfied: requests in /usr/local/lib/python3.11/dist-packages (from Bio) (2.32.3)\n",
            "Requirement already satisfied: tqdm in /usr/local/lib/python3.11/dist-packages (from Bio) (4.67.1)\n",
            "Requirement already satisfied: numpy in /usr/local/lib/python3.11/dist-packages (from biopython>=1.80->Bio) (2.0.2)\n",
            "Requirement already satisfied: biothings-client>=0.2.6 in /usr/local/lib/python3.11/dist-packages (from mygene->Bio) (0.4.1)\n",
            "Requirement already satisfied: python-dateutil>=2.8.2 in /usr/local/lib/python3.11/dist-packages (from pandas->Bio) (2.9.0.post0)\n",
            "Requirement already satisfied: pytz>=2020.1 in /usr/local/lib/python3.11/dist-packages (from pandas->Bio) (2025.2)\n",
            "Requirement already satisfied: tzdata>=2022.7 in /usr/local/lib/python3.11/dist-packages (from pandas->Bio) (2025.2)\n",
            "Requirement already satisfied: platformdirs>=2.5.0 in /usr/local/lib/python3.11/dist-packages (from pooch->Bio) (4.3.8)\n",
            "Requirement already satisfied: packaging>=20.0 in /usr/local/lib/python3.11/dist-packages (from pooch->Bio) (24.2)\n",
            "Requirement already satisfied: charset-normalizer<4,>=2 in /usr/local/lib/python3.11/dist-packages (from requests->Bio) (3.4.2)\n",
            "Requirement already satisfied: idna<4,>=2.5 in /usr/local/lib/python3.11/dist-packages (from requests->Bio) (3.10)\n",
            "Requirement already satisfied: urllib3<3,>=1.21.1 in /usr/local/lib/python3.11/dist-packages (from requests->Bio) (2.4.0)\n",
            "Requirement already satisfied: certifi>=2017.4.17 in /usr/local/lib/python3.11/dist-packages (from requests->Bio) (2025.4.26)\n",
            "Requirement already satisfied: httpx>=0.22.0 in /usr/local/lib/python3.11/dist-packages (from biothings-client>=0.2.6->mygene->Bio) (0.28.1)\n",
            "Requirement already satisfied: six>=1.5 in /usr/local/lib/python3.11/dist-packages (from python-dateutil>=2.8.2->pandas->Bio) (1.17.0)\n",
            "Requirement already satisfied: anyio in /usr/local/lib/python3.11/dist-packages (from httpx>=0.22.0->biothings-client>=0.2.6->mygene->Bio) (4.9.0)\n",
            "Requirement already satisfied: httpcore==1.* in /usr/local/lib/python3.11/dist-packages (from httpx>=0.22.0->biothings-client>=0.2.6->mygene->Bio) (1.0.9)\n",
            "Requirement already satisfied: h11>=0.16 in /usr/local/lib/python3.11/dist-packages (from httpcore==1.*->httpx>=0.22.0->biothings-client>=0.2.6->mygene->Bio) (0.16.0)\n",
            "Requirement already satisfied: sniffio>=1.1 in /usr/local/lib/python3.11/dist-packages (from anyio->httpx>=0.22.0->biothings-client>=0.2.6->mygene->Bio) (1.3.1)\n",
            "Requirement already satisfied: typing_extensions>=4.5 in /usr/local/lib/python3.11/dist-packages (from anyio->httpx>=0.22.0->biothings-client>=0.2.6->mygene->Bio) (4.13.2)\n",
            "Requirement already satisfied: transformers in /usr/local/lib/python3.11/dist-packages (4.51.3)\n",
            "Requirement already satisfied: torch in /usr/local/lib/python3.11/dist-packages (2.6.0+cu124)\n",
            "Requirement already satisfied: sentencepiece in /usr/local/lib/python3.11/dist-packages (0.2.0)\n",
            "Requirement already satisfied: scikit-learn in /usr/local/lib/python3.11/dist-packages (1.6.1)\n",
            "Requirement already satisfied: filelock in /usr/local/lib/python3.11/dist-packages (from transformers) (3.18.0)\n",
            "Requirement already satisfied: huggingface-hub<1.0,>=0.30.0 in /usr/local/lib/python3.11/dist-packages (from transformers) (0.31.2)\n",
            "Requirement already satisfied: numpy>=1.17 in /usr/local/lib/python3.11/dist-packages (from transformers) (2.0.2)\n",
            "Requirement already satisfied: packaging>=20.0 in /usr/local/lib/python3.11/dist-packages (from transformers) (24.2)\n",
            "Requirement already satisfied: pyyaml>=5.1 in /usr/local/lib/python3.11/dist-packages (from transformers) (6.0.2)\n",
            "Requirement already satisfied: regex!=2019.12.17 in /usr/local/lib/python3.11/dist-packages (from transformers) (2024.11.6)\n",
            "Requirement already satisfied: requests in /usr/local/lib/python3.11/dist-packages (from transformers) (2.32.3)\n",
            "Requirement already satisfied: tokenizers<0.22,>=0.21 in /usr/local/lib/python3.11/dist-packages (from transformers) (0.21.1)\n",
            "Requirement already satisfied: safetensors>=0.4.3 in /usr/local/lib/python3.11/dist-packages (from transformers) (0.5.3)\n",
            "Requirement already satisfied: tqdm>=4.27 in /usr/local/lib/python3.11/dist-packages (from transformers) (4.67.1)\n",
            "Requirement already satisfied: typing-extensions>=4.10.0 in /usr/local/lib/python3.11/dist-packages (from torch) (4.13.2)\n",
            "Requirement already satisfied: networkx in /usr/local/lib/python3.11/dist-packages (from torch) (3.4.2)\n",
            "Requirement already satisfied: jinja2 in /usr/local/lib/python3.11/dist-packages (from torch) (3.1.6)\n",
            "Requirement already satisfied: fsspec in /usr/local/lib/python3.11/dist-packages (from torch) (2025.3.2)\n",
            "Requirement already satisfied: nvidia-cuda-nvrtc-cu12==12.4.127 in /usr/local/lib/python3.11/dist-packages (from torch) (12.4.127)\n",
            "Requirement already satisfied: nvidia-cuda-runtime-cu12==12.4.127 in /usr/local/lib/python3.11/dist-packages (from torch) (12.4.127)\n",
            "Requirement already satisfied: nvidia-cuda-cupti-cu12==12.4.127 in /usr/local/lib/python3.11/dist-packages (from torch) (12.4.127)\n",
            "Requirement already satisfied: nvidia-cudnn-cu12==9.1.0.70 in /usr/local/lib/python3.11/dist-packages (from torch) (9.1.0.70)\n",
            "Requirement already satisfied: nvidia-cublas-cu12==12.4.5.8 in /usr/local/lib/python3.11/dist-packages (from torch) (12.4.5.8)\n",
            "Requirement already satisfied: nvidia-cufft-cu12==11.2.1.3 in /usr/local/lib/python3.11/dist-packages (from torch) (11.2.1.3)\n",
            "Requirement already satisfied: nvidia-curand-cu12==10.3.5.147 in /usr/local/lib/python3.11/dist-packages (from torch) (10.3.5.147)\n",
            "Requirement already satisfied: nvidia-cusolver-cu12==11.6.1.9 in /usr/local/lib/python3.11/dist-packages (from torch) (11.6.1.9)\n",
            "Requirement already satisfied: nvidia-cusparse-cu12==12.3.1.170 in /usr/local/lib/python3.11/dist-packages (from torch) (12.3.1.170)\n",
            "Requirement already satisfied: nvidia-cusparselt-cu12==0.6.2 in /usr/local/lib/python3.11/dist-packages (from torch) (0.6.2)\n",
            "Requirement already satisfied: nvidia-nccl-cu12==2.21.5 in /usr/local/lib/python3.11/dist-packages (from torch) (2.21.5)\n",
            "Requirement already satisfied: nvidia-nvtx-cu12==12.4.127 in /usr/local/lib/python3.11/dist-packages (from torch) (12.4.127)\n",
            "Requirement already satisfied: nvidia-nvjitlink-cu12==12.4.127 in /usr/local/lib/python3.11/dist-packages (from torch) (12.4.127)\n",
            "Requirement already satisfied: triton==3.2.0 in /usr/local/lib/python3.11/dist-packages (from torch) (3.2.0)\n",
            "Requirement already satisfied: sympy==1.13.1 in /usr/local/lib/python3.11/dist-packages (from torch) (1.13.1)\n",
            "Requirement already satisfied: mpmath<1.4,>=1.1.0 in /usr/local/lib/python3.11/dist-packages (from sympy==1.13.1->torch) (1.3.0)\n",
            "Requirement already satisfied: scipy>=1.6.0 in /usr/local/lib/python3.11/dist-packages (from scikit-learn) (1.15.3)\n",
            "Requirement already satisfied: joblib>=1.2.0 in /usr/local/lib/python3.11/dist-packages (from scikit-learn) (1.5.0)\n",
            "Requirement already satisfied: threadpoolctl>=3.1.0 in /usr/local/lib/python3.11/dist-packages (from scikit-learn) (3.6.0)\n",
            "Requirement already satisfied: MarkupSafe>=2.0 in /usr/local/lib/python3.11/dist-packages (from jinja2->torch) (3.0.2)\n",
            "Requirement already satisfied: charset-normalizer<4,>=2 in /usr/local/lib/python3.11/dist-packages (from requests->transformers) (3.4.2)\n",
            "Requirement already satisfied: idna<4,>=2.5 in /usr/local/lib/python3.11/dist-packages (from requests->transformers) (3.10)\n",
            "Requirement already satisfied: urllib3<3,>=1.21.1 in /usr/local/lib/python3.11/dist-packages (from requests->transformers) (2.4.0)\n",
            "Requirement already satisfied: certifi>=2017.4.17 in /usr/local/lib/python3.11/dist-packages (from requests->transformers) (2025.4.26)\n"
          ]
        }
      ],
      "source": [
        "!pip install Bio\n",
        "\n",
        "from pathlib import Path\n",
        "from Bio import SeqIO\n",
        "from itertools import product\n",
        "!pip install transformers torch sentencepiece scikit-learn\n",
        "\n",
        "import numpy as np\n",
        "import torch\n",
        "from pathlib import Path\n",
        "from transformers import BertModel, BertTokenizerFast\n",
        "from sklearn.pipeline          import Pipeline\n",
        "from sklearn.preprocessing     import StandardScaler\n",
        "from sklearn.linear_model      import LogisticRegressionCV\n",
        "from sklearn.model_selection   import StratifiedKFold, train_test_split\n",
        "from sklearn.metrics           import (\n",
        "    balanced_accuracy_score,\n",
        "    roc_auc_score,\n",
        "    classification_report,\n",
        "    confusion_matrix\n",
        ")"
      ]
    },
    {
      "cell_type": "code",
      "source": [
        "from google.colab import drive\n",
        "drive.mount('/content/drive')"
      ],
      "metadata": {
        "colab": {
          "base_uri": "https://localhost:8080/"
        },
        "id": "Dkfm5xEqRxKP",
        "outputId": "0a819d40-944b-45a7-cd42-280b240dba58"
      },
      "execution_count": 17,
      "outputs": [
        {
          "output_type": "stream",
          "name": "stdout",
          "text": [
            "Drive already mounted at /content/drive; to attempt to forcibly remount, call drive.mount(\"/content/drive\", force_remount=True).\n"
          ]
        }
      ]
    },
    {
      "cell_type": "code",
      "source": [
        "drive.mount('/content/drive')\n",
        "\n",
        "base = Path('/content/drive/MyDrive')\n",
        "print(\"Top-level of MyDrive:\", sorted(p.name for p in base.iterdir()))\n",
        "\n",
        "DATA_DIR = base\n",
        "print(\"Using DATA_DIR =\", DATA_DIR)"
      ],
      "metadata": {
        "colab": {
          "base_uri": "https://localhost:8080/"
        },
        "id": "eN92GophQ8T1",
        "outputId": "c3a77115-37df-4494-f4e1-cc31592c7546"
      },
      "execution_count": 18,
      "outputs": [
        {
          "output_type": "stream",
          "name": "stdout",
          "text": [
            "Drive already mounted at /content/drive; to attempt to forcibly remount, call drive.mount(\"/content/drive\", force_remount=True).\n",
            "Top-level of MyDrive: ['Colab Notebooks', 'Masters thesis (1).zip', 'PredictionModel (2).ipynb', 'PyRosetta', 'StackingEnsemble (1).ipynb', 'antigens.fasta', 'binding_results', 'data', 'test_neg.txt', 'test_neg_1.txt', 'test_neg_cdrh3.txt', 'test_pos.txt', 'test_pos_1.txt', 'test_pos_cdrh3.txt', 'train_neg (1).gdoc', 'train_neg.gdoc', 'train_neg.txt', 'train_neg_1.txt', 'train_neg_cdrh3.txt', 'train_pos.txt', 'train_pos_1.txt', 'train_pos_cdrh3.txt']\n",
            "Using DATA_DIR = /content/drive/MyDrive\n"
          ]
        }
      ]
    },
    {
      "cell_type": "code",
      "source": [
        "def load_antigen_sequences(fasta_path):\n",
        "    sequences = {}\n",
        "    with open(fasta_path, \"r\") as f:\n",
        "        for record in SeqIO.parse(f, \"fasta\"):\n",
        "            sequences[record.id] = str(record.seq)\n",
        "    return sequences\n",
        "\n",
        "fasta_path = DATA_DIR/ \"antigens.fasta\"\n",
        "ANTIGEN_SEQUENCES = load_antigen_sequences(fasta_path)\n",
        "\n",
        "print(ANTIGEN_SEQUENCES)"
      ],
      "metadata": {
        "colab": {
          "base_uri": "https://localhost:8080/"
        },
        "id": "-aMiJGftRD7K",
        "outputId": "43271584-7fae-46b1-f5e7-c7ce0264dab6"
      },
      "execution_count": 19,
      "outputs": [
        {
          "output_type": "stream",
          "name": "stdout",
          "text": [
            "{'SARS-CoV1': 'MFIFLLFLTLTSGSDLDRCTTFDDVQAPNYTQHTSSMRGVYYPDEIFRSDTLYLTQDLFLPFYSNVTGFHTINHTFGNPVIPFKDGIYFAATEKSNVVRGWVFGSTMNNKSQSVIIINNSTNVVIRACNFELCDNPFFAVSKPMGTQTHTMIFDNAFNCTFEYISDAFSLDVSEKSGNFKHLREFVFKNKDGFLYVYKGYQPIDVVRDLPSGFNTLKPIFKLPLGINITNFRAILTAFSPAQDIWGTSAAAYFVGYLKPTTFMLKYDENGTITDAVDCSQNPLAELKCSVKSFEIDKGIYQTSNFRVVPSGDVVRFPNITNLCPFGEVFNATKFPSVYAWERKKISNCVADYSVLYNSTFFSTFKCYGVSATKLNDLCFSNVYADSFVVKGDDVRQIAPGQTGVIADYNYKLPDDFMGCVLAWNTRNIDATSTGNYNYKYRYLRHGKLRPFERDISNVPFSPDGKPCTPPALNCYWPLNDYGFYTTTGIGYQPYRVVVLSFELLNAPATVCGPKLSTDLIKNQCVNFNFNGLTGTGVLTPSSKRFQPFQQFGRDVSDFTDSVRDPKTSEILDISPCSFGGVSVITPGTNASSEVAVLYQDVNCTDVSTAIHADQLTPAWRIYSTGNNVFQTQAGCLIGAEHVDTSYECDIPIGAGICASYHTVSLLRSTSQKSIVAYTMSLGADSSIAYSNNTIAIPTNFSISITTEVMPVSMAKTSVDCNMYICGDSTECANLLLQYGSFCTQLNRALSGIAAEQDRNTREVFAQVKQMYKTPTLKYFGGFNFSQILPDPLKPTKRSFIEDLLFNKVTLADAGFMKQYGECLGDINARDLICAQKFNGLTVLPPLLTDDMIAAYTAALVSGTATAGWTFGAGAALQIPFAMQMAYRFNGIGVTQNVLYENQKQIANQFNKAISQIQESLTTTSTALGKLQDVVNQNAQALNTLVKQLSSNFGAISSVLNDILSRLDKVEAEVQIDRLITGRLQSLQTYVTQQLIRAAEIRASANLAATKMSECVLGQSKRVDFCGKGYHLMSFPQAAPHGVVFLHVTYVPSQERNFTTAPAICHEGKAYFPREGVFVFNGTSWFITQRNFFSPQIITTDNTFVSGNCDVVIGIINNTVYDPLQPELDSFKEELDKYFKNHTSPDVDLGDISGINASVVNIQKEIDRLNEVAKNLNESLIDLQELGKYEQYIKWPWYVWLGLFIAGLIAIVMVTILLCCMTSCCSCLKGACSCGSCCKFDEDDSEPVLKGVKLHYT', 'SARS-CoV2': 'MFVFLVLLPLVSSQCVNLTTRTQLPPAYTNSFTRGVYYPDKVFRSSVLHSTQDLFLPFFSNVTWFHAIHVSGTNGTKRFDNPVLPFNDGVYFASTEKSNIIRGWIFGTTLDSKTQSLLIVNNATNVVIKVCEFQFCNDPFLGVYYHKNNKSWMESEFRVYSSANNCTFEYVSQPFLMDLEGKQGNFKNLREFVFKNIDGYFKIYSKHTPINLVRDLPQGFSALEPLVDLPIGINITRFQTLLALHRSYLTPGDSSSGWTAGAAAYYVGYLQPRTFLLKYNENGTITDAVDCALDPLSETKCTLKSFTVEKGIYQTSNFRVQPTESIVRFPNITNLCPFGEVFNATRFASVYAWNRKRISNCVADYSVLYNSASFSTFKCYGVSPTKLNDLCFTNVYADSFVIRGDEVRQIAPGQTGKIADYNYKLPDDFTGCVIAWNSNNLDSKVGGNYNYLYRLFRKSNLKPFERDISTEIYQAGSTPCNGVEGFNCYFPLQSYGFQPTNGVGYQPYRVVVLSFELLHAPATVCGPKKSTNLVKNKCVNFNFNGLTGTGVLTESNKKFLPFQQFGRDIADTTDAVRDPQTLEILDITPCSFGGVSVITPGTNTSNQVAVLYQDVNCTEVPVAIHADQLTPTWRVYSTGSNVFQTRAGCLIGAEHVNNSYECDIPIGAGICASYQTQTNSPRRARSVASQSIIAYTMSLGAENSVAYSNNSIAIPTNFTISVTTEILPVSMTKTSVDCTMYICGDSTECSNLLLQYGSFCTQLNRALTGIAVEQDKNTQEVFAQVKQIYKTPPIKDFGGFNFSQILPDPSKPSKRSFIEDLLFNKVTLADAGFIKQYGDCLGDIAARDLICAQKFNGLTVLPPLLTDEMIAQYTSALLAGTITSGWTFGAGAALQIPFAMQMAYRFNGIGVTQNVLYENQKLIANQFNSAIGKIQDSLSSTASALGKLQDVVNQNAQALNTLVKQLSSNFGAISSVLNDILSRLDKVEAEVQIDRLITGRLQSLQTYVTQQLIRAAEIRASANLAATKMSECVLGQSKRVDFCGKGYHLMSFPQSAPHGVVFLHVTYVPAQEKNFTTAPAICHDGKAHFPREGVFVSNGTHWFVTQRNFYEPQIITTDNTFVSGNCDVVIGIVNNTVYDPLQPELDSFKEELDKYFKNHTSPDVDLGDISGINASVVNIQKEIDRLNEVAKNLNESLIDLQELGKYEQYIKWPWYIWLGFIAGLIAIVMVTIMLCCMTSCCSCLKGCCSCGSCCKFDEDDSEPVLKGVKLHYT'}\n"
          ]
        }
      ]
    },
    {
      "cell_type": "code",
      "source": [
        "AA = ['A', 'C', 'D', 'E', 'F', 'G', 'H', 'I', 'K', 'L', 'M', 'N', 'P', 'Q', 'R', 'S', 'T', 'V', 'W', 'Y']\n",
        "DP = list(product(AA, AA))\n",
        "DP_list = []\n",
        "for i in DP:\n",
        "    DP_list.append(str(i[0]) + str(i[1]))\n",
        "\n",
        "AAindex_list = DP_list.copy()\n",
        "\n",
        "def returnCKSAAPcode(query_seq, k):\n",
        "    code_final = []\n",
        "    for turns in range(k + 1):\n",
        "        DP_dic = {}\n",
        "        code = []\n",
        "        code_order = []\n",
        "\n",
        "        for i in DP_list:\n",
        "            DP_dic[i] = 0\n",
        "\n",
        "        for i in range(len(query_seq) - turns - 1):\n",
        "            tmp_dp_1 = query_seq[i]                # first amino acid\n",
        "            tmp_dp_2 = query_seq[i + turns + 1]    # second amino acid\n",
        "            tmp_dp = tmp_dp_1 + tmp_dp_2           # combine them into a dipeptide string\n",
        "\n",
        "            if tmp_dp in DP_dic.keys():\n",
        "                DP_dic[tmp_dp] += 1\n",
        "            else:\n",
        "                DP_dic[tmp_dp] = 1\n",
        "\n",
        "        for i, j in DP_dic.items():\n",
        "            code.append(j / (len(query_seq) - turns - 1))\n",
        "\n",
        "        for i in AAindex_list:\n",
        "            code_order.append(code[DP_list.index(i)])\n",
        "        code_final += code\n",
        "\n",
        "    return code_final\n",
        "\n",
        "def get_cksaap_length(sample_seq, k):\n",
        "    code = returnCKSAAPcode(sample_seq, k)\n",
        "    return len(code)"
      ],
      "metadata": {
        "id": "jCtuPNInRMVU"
      },
      "execution_count": 20,
      "outputs": []
    },
    {
      "cell_type": "code",
      "source": [
        "OUTPUT_DIR  = DATA_DIR/\"binding_results\"\n",
        "OUTPUT_DIR.mkdir(parents=True, exist_ok=True)\n",
        "\n",
        "def load_tsv_pairs(pos_path, neg_path):\n",
        "    pairs, labels = [], []\n",
        "    for p, lab in [(pos_path, 1), (neg_path, 0)]:\n",
        "        with open(p) as f:\n",
        "            for line in f:\n",
        "                ag_id, heavy, light = line.strip().split(\"\\t\")\n",
        "                pairs.append((ag_id, heavy + light))\n",
        "                labels.append(lab)\n",
        "    return pairs, np.array(labels, dtype=int)\n",
        "\n",
        "train_pairs, y_train = load_tsv_pairs(DATA_DIR/\"train_pos.txt\", DATA_DIR/\"train_neg.txt\")\n",
        "test_pairs,  y_test  = load_tsv_pairs(DATA_DIR/\"test_pos.txt\",  DATA_DIR/\"test_neg.txt\")\n",
        "\n",
        "print(f\"Train: {len(train_pairs)}  Pos/Neg = {np.bincount(y_train)}\")\n",
        "print(f\"Test:  {len(test_pairs)}  Pos/Neg = {np.bincount(y_test)}\")\n",
        "\n",
        "train_seqs = [(ANTIGEN_SEQUENCES[ag], ab) for ag,ab in train_pairs]\n",
        "test_seqs  = [(ANTIGEN_SEQUENCES[ag], ab) for ag,ab in test_pairs]\n",
        "\n",
        "device = torch.device(\"cuda\" if torch.cuda.is_available() else \"cpu\")\n",
        "tokenizer = BertTokenizerFast.from_pretrained(\"Rostlab/prot_bert\", do_lower_case=False)\n",
        "model     = BertModel.from_pretrained(\"Rostlab/prot_bert\").to(device)\n",
        "model.eval()\n",
        "\n",
        "def embed_seq(seq, max_len=512):\n",
        "    \"\"\"Return mean‐pooled ProtBert embedding for a single sequence.\"\"\"\n",
        "    tokens = \" \".join(list(seq))\n",
        "    inputs = tokenizer(tokens, return_tensors=\"pt\", add_special_tokens=True)\n",
        "    inputs = {k:v.to(device) for k,v in inputs.items()}\n",
        "    with torch.no_grad():\n",
        "        out = model(**inputs).last_hidden_state  # (1, L, 1024)\n",
        "    emb = out[0, 1:-1].mean(dim=0).cpu().numpy()  # (1024,)\n",
        "    return emb\n",
        "\n",
        "def build_features(pairs, k=10):\n",
        "    X_ck, X_pb, ys = [], [], []\n",
        "    for ag_seq, ab_seq in pairs:\n",
        "        c1 = returnCKSAAPcode(ag_seq, k)\n",
        "        c2 = returnCKSAAPcode(ab_seq,   k)\n",
        "        diff = [abs(a-b) for a,b in zip(c1,c2)]\n",
        "        prod = [   a*b   for a,b in zip(c1,c2)]\n",
        "        ck_feat = c1 + c2 + diff + prod\n",
        "\n",
        "        e1 = embed_seq(ag_seq)\n",
        "        e2 = embed_seq(ab_seq)\n",
        "\n",
        "        X_ck.append(ck_feat)\n",
        "        X_pb.append(np.concatenate([e1, e2]))\n",
        "    return np.vstack(X_ck), np.vstack(X_pb)\n",
        "\n",
        "best_k = 10\n",
        "print(\"Building train features…\")\n",
        "X_train_ck, X_train_pb = build_features(train_seqs, best_k)\n",
        "print(\"Building test features…\")\n",
        "X_test_ck,  X_test_pb  = build_features(test_seqs,  best_k)\n",
        "\n",
        "X_train = np.hstack([X_train_ck, X_train_pb])\n",
        "X_test  = np.hstack([X_test_ck,  X_test_pb ])\n",
        "\n",
        "print(\"X_train shape =\", X_train.shape)\n",
        "print(\"X_test  shape =\", X_test.shape)\n",
        "\n",
        "cv = StratifiedKFold(n_splits=5, shuffle=True, random_state=42)\n",
        "pipe = Pipeline([\n",
        "    (\"scale\", StandardScaler()),\n",
        "    (\"clf\",   LogisticRegressionCV(\n",
        "        Cs=[0.01,0.1,1,10],\n",
        "        cv=cv,\n",
        "        scoring=\"roc_auc\",\n",
        "        class_weight=\"balanced\",\n",
        "        max_iter=2000,\n",
        "        n_jobs=-1\n",
        "    ))\n",
        "])\n",
        "\n",
        "aucs = []\n",
        "for tr, val in cv.split(X_train, y_train):\n",
        "    pipe.fit(X_train[tr], y_train[tr])\n",
        "    probs = pipe.predict_proba(X_train[val])[:,1]\n",
        "    aucs.append(roc_auc_score(y_train[val], probs))\n",
        "print(f\"CV AUC = {np.mean(aucs):.3f} ± {np.std(aucs):.3f}\")\n",
        "\n",
        "pipe.fit(X_train, y_train)\n",
        "probs = pipe.predict_proba(X_test)[:,1]\n",
        "preds = pipe.predict(X_test)\n",
        "\n",
        "print(\"\\n=== Test performance ===\")\n",
        "print(\"Balanced Acc:\", balanced_accuracy_score(y_test, preds))\n",
        "print(\"AUC:         \", roc_auc_score(y_test, probs))\n",
        "print(classification_report(y_test, preds, digits=3))\n",
        "print(confusion_matrix(y_test, preds))\n",
        "\n",
        "def evaluate(name, model, X, y, prefix, output_dir):\n",
        "    probs = model.predict_proba(X)[:,1]\n",
        "    preds = (probs >= 0.5).astype(int)\n",
        "    bal = balanced_accuracy_score(y, preds)\n",
        "    roc = roc_auc_score(y, probs)\n",
        "    prec_recall_f1 = classification_report(y, preds, digits=3)\n",
        "    cm = confusion_matrix(y, preds)\n",
        "\n",
        "    print(f\"{name}: Balanced Acc={bal:.3f}, AUC={roc:.3f}\")\n",
        "    print(prec_recall_f1)\n",
        "\n",
        "    # ROC\n",
        "    fpr, tpr, _ = roc_curve(y, probs)\n",
        "    plt.figure(); plt.plot(fpr, tpr, label=f'AUC={roc:.3f}'); plt.plot([0,1],[0,1],'--')\n",
        "    plt.title(f'{name} ROC'); plt.xlabel('FPR'); plt.ylabel('TPR'); plt.legend()\n",
        "    plt.savefig(output_dir/f\"{prefix}_roc.png\", dpi=200); plt.close()\n",
        "\n",
        "    # Confusion\n",
        "    plt.figure(figsize=(4,4))\n",
        "    sns.heatmap(cm, annot=True, fmt='d', cmap='Blues')\n",
        "    plt.title(f'{name} Confusion'); plt.tight_layout()\n",
        "    plt.savefig(output_dir/f\"{prefix}_confusion.png\", dpi=200); plt.close()"
      ],
      "metadata": {
        "id": "OGJb7SLBV2nz"
      },
      "execution_count": null,
      "outputs": []
    },
    {
      "cell_type": "code",
      "source": [
        "evaluate(\n",
        "  name=\"ProtBERT+CKSAAP\",\n",
        "  model=pipe,\n",
        "  X=X_test,\n",
        "  y=y_test,\n",
        "  prefix=\"protbert_cksaap\",\n",
        "  output_dir=OUTPUT_DIR\n",
        ")"
      ],
      "metadata": {
        "id": "ueZArB11Uz8E"
      },
      "execution_count": null,
      "outputs": []
    }
  ]
}